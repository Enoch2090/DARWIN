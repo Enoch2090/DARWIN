{
  "cells": [
    {
      "cell_type": "code",
      "execution_count": 13,
      "metadata": {
        "id": "V1WywC6aHQ4c"
      },
      "outputs": [],
      "source": [
        "%matplotlib inline"
      ]
    },
    {
      "cell_type": "markdown",
      "metadata": {
        "id": "rfvY0O8JHQ4w"
      },
      "source": [
        "Character-Level RNN Classifier\n",
        "**************************************************************\n",
        "**Credits to:** `Sean Robertson <https://github.com/spro/practical-pytorch>`\n",
        "\n",
        "Modified by Gu Yucheng (Enoch2090)\n"
      ]
    },
    {
      "cell_type": "markdown",
      "metadata": {
        "id": "Zckmc0Q-mwcd"
      },
      "source": [
        "## Commands for Colab"
      ]
    },
    {
      "cell_type": "code",
      "execution_count": 30,
      "metadata": {
        "id": "dz-ssKqwrt0k"
      },
      "outputs": [],
      "source": [
        "# !rm data -r"
      ]
    },
    {
      "cell_type": "code",
      "execution_count": 31,
      "metadata": {
        "id": "T4pLVMW_m_i7"
      },
      "outputs": [],
      "source": [
        "# !mkdir data"
      ]
    },
    {
      "cell_type": "markdown",
      "metadata": {
        "id": "cwB61KbKm1bO"
      },
      "source": [
        "## Import & Utils"
      ]
    },
    {
      "cell_type": "code",
      "execution_count": 20,
      "metadata": {
        "colab": {
          "base_uri": "https://localhost:8080/"
        },
        "id": "NBHHVdJ5HQ45",
        "outputId": "4ff4b158-465b-4303-fae4-63a376536c44"
      },
      "outputs": [
        {
          "name": "stdout",
          "output_type": "stream",
          "text": [
            "['data/power.txt', 'data/exterior.txt', 'data/configuration.txt', 'data/price.txt']\n"
          ]
        }
      ],
      "source": [
        "from __future__ import unicode_literals, print_function, division\n",
        "from io import open\n",
        "import glob\n",
        "import os\n",
        "\n",
        "def findFiles(path): return glob.glob(path)\n",
        "\n",
        "print(findFiles('data/*.txt'))\n",
        "\n",
        "import unicodedata\n",
        "import string\n",
        "\n",
        "all_letters = string.ascii_letters + \" .,;'\"\n",
        "n_letters = len(all_letters)\n",
        "\n",
        "# Turn a Unicode string to plain ASCII, thanks to https://stackoverflow.com/a/518232/2809427\n",
        "def unicodeToAscii(s):\n",
        "    return ''.join(\n",
        "        c for c in unicodedata.normalize('NFD', s)\n",
        "        if unicodedata.category(c) != 'Mn'\n",
        "        and c in all_letters\n",
        "    )\n",
        "\n",
        "# print(unicodeToAscii('Ślusàrski'))\n",
        "\n",
        "# Build the category_lines dictionary, a list of names per language\n",
        "category_lines = {}\n",
        "all_categories = []\n",
        "\n",
        "# Read a file and split into lines\n",
        "def readLines(filename):\n",
        "    lines = open(filename, encoding='utf-8').read().strip().split('\\n')\n",
        "    return [unicodeToAscii(line) for line in lines]\n",
        "\n",
        "for filename in findFiles('data/*.txt'):\n",
        "    category = os.path.splitext(os.path.basename(filename))[0]\n",
        "    all_categories.append(category)\n",
        "    lines = readLines(filename)\n",
        "    category_lines[category] = lines\n",
        "\n",
        "n_categories = len(all_categories)"
      ]
    },
    {
      "cell_type": "markdown",
      "metadata": {
        "id": "c5ShubuLHQ48"
      },
      "source": [
        "Turning Names into Tensors\n",
        "--------------------------\n",
        "\n",
        "\n"
      ]
    },
    {
      "cell_type": "code",
      "execution_count": 21,
      "metadata": {
        "colab": {
          "base_uri": "https://localhost:8080/"
        },
        "id": "SnMOOHYYHQ4-",
        "outputId": "81b4a44e-07a2-406c-e65e-4899ed26a236"
      },
      "outputs": [
        {
          "name": "stdout",
          "output_type": "stream",
          "text": [
            "tensor([[0., 0., 0., 0., 0., 0., 0., 0., 0., 0., 0., 0., 0., 0., 0., 0., 0., 0.,\n",
            "         0., 0., 0., 0., 0., 0., 0., 0., 0., 0., 0., 0., 0., 0., 0., 0., 0., 1.,\n",
            "         0., 0., 0., 0., 0., 0., 0., 0., 0., 0., 0., 0., 0., 0., 0., 0., 0., 0.,\n",
            "         0., 0., 0.]])\n",
            "torch.Size([10, 1, 57])\n"
          ]
        }
      ],
      "source": [
        "import torch\n",
        "\n",
        "# Find letter index from all_letters, e.g. \"a\" = 0\n",
        "def letterToIndex(letter):\n",
        "    return all_letters.find(letter)\n",
        "\n",
        "# Just for demonstration, turn a letter into a <1 x n_letters> Tensor\n",
        "def letterToTensor(letter):\n",
        "    tensor = torch.zeros(1, n_letters)\n",
        "    tensor[0][letterToIndex(letter)] = 1\n",
        "    return tensor\n",
        "\n",
        "# Turn a line into a <line_length x 1 x n_letters>,\n",
        "# or an array of one-hot letter vectors\n",
        "def lineToTensor(line):\n",
        "    tensor = torch.zeros(len(line), 1, n_letters)\n",
        "    for li, letter in enumerate(line):\n",
        "        tensor[li][0][letterToIndex(letter)] = 1\n",
        "    return tensor\n",
        "\n",
        "print(letterToTensor('J'))\n",
        "\n",
        "print(lineToTensor('horsepower').size())"
      ]
    },
    {
      "cell_type": "markdown",
      "metadata": {
        "id": "1NWKWm01HQ4_"
      },
      "source": [
        "Creating the Network\n",
        "====================\n",
        "\n",
        "\n",
        "\n",
        "\n"
      ]
    },
    {
      "cell_type": "code",
      "execution_count": 22,
      "metadata": {
        "id": "Ug-xs5eDHQ5A"
      },
      "outputs": [],
      "source": [
        "import torch.nn as nn\n",
        "\n",
        "class RNN(nn.Module):\n",
        "    def __init__(self, input_size, hidden_size, output_size):\n",
        "        super(RNN, self).__init__()\n",
        "\n",
        "        self.hidden_size = hidden_size\n",
        "\n",
        "        self.i2h = nn.Linear(input_size + hidden_size, hidden_size)\n",
        "        self.i2o = nn.Linear(input_size + hidden_size, output_size)\n",
        "        self.softmax = nn.LogSoftmax(dim=1)\n",
        "\n",
        "    def forward(self, input, hidden):\n",
        "        combined = torch.cat((input, hidden), 1)\n",
        "        hidden = self.i2h(combined)\n",
        "        output = self.i2o(combined)\n",
        "        output = self.softmax(output)\n",
        "        return output, hidden\n",
        "\n",
        "    def initHidden(self):\n",
        "        return torch.zeros(1, self.hidden_size)\n",
        "\n",
        "n_hidden = 128\n",
        "rnn = RNN(n_letters, n_hidden, n_categories)"
      ]
    },
    {
      "cell_type": "code",
      "execution_count": 23,
      "metadata": {},
      "outputs": [
        {
          "data": {
            "text/plain": [
              "<All keys matched successfully>"
            ]
          },
          "execution_count": 23,
          "metadata": {},
          "output_type": "execute_result"
        }
      ],
      "source": [
        "rnn.load_state_dict(torch.load('../feature_predictor.pt')) "
      ]
    },
    {
      "cell_type": "code",
      "execution_count": 24,
      "metadata": {
        "id": "9ZNYR5t6HQ5C"
      },
      "outputs": [],
      "source": [
        "input = letterToTensor('A')\n",
        "hidden = torch.zeros(1, n_hidden)\n",
        "\n",
        "output, next_hidden = rnn(input, hidden)"
      ]
    },
    {
      "cell_type": "code",
      "execution_count": 25,
      "metadata": {
        "colab": {
          "base_uri": "https://localhost:8080/"
        },
        "id": "f-a2nT2LHQ5E",
        "outputId": "66d3e209-2849-428d-8603-87402faa081c"
      },
      "outputs": [
        {
          "name": "stdout",
          "output_type": "stream",
          "text": [
            "tensor([[-1.4441, -1.3618, -1.2249, -1.5416]], grad_fn=<LogSoftmaxBackward0>)\n"
          ]
        }
      ],
      "source": [
        "input = lineToTensor('high horsepower')\n",
        "hidden = torch.zeros(1, n_hidden)\n",
        "\n",
        "output, next_hidden = rnn(input[0], hidden)\n",
        "print(output)"
      ]
    },
    {
      "cell_type": "markdown",
      "metadata": {
        "id": "PPe4LBiSHQ5G"
      },
      "source": [
        "Training\n",
        "========\n",
        "Preparing for Training\n",
        "\n"
      ]
    },
    {
      "cell_type": "code",
      "execution_count": 37,
      "metadata": {
        "colab": {
          "base_uri": "https://localhost:8080/"
        },
        "id": "laIp87S4HQ5H",
        "outputId": "7ccbaaf4-3f7c-4c99-95b2-61380b151c1f"
      },
      "outputs": [
        {
          "name": "stdout",
          "output_type": "stream",
          "text": [
            "('configuration', 2)\n"
          ]
        }
      ],
      "source": [
        "def categoryFromOutput(output):\n",
        "    top_n, top_i = output.topk(1)\n",
        "    category_i = top_i[0].item()\n",
        "    return all_categories[category_i], category_i\n",
        "\n",
        "print(categoryFromOutput(output))"
      ]
    },
    {
      "cell_type": "code",
      "execution_count": 11,
      "metadata": {
        "colab": {
          "base_uri": "https://localhost:8080/"
        },
        "id": "9_R4PrSEHQ5K",
        "outputId": "a326b667-40d9-467b-910e-984e56d9b155"
      },
      "outputs": [
        {
          "name": "stdout",
          "output_type": "stream",
          "text": [
            "category = power / line = check engine\n",
            "category = exterior / line = normal black\n",
            "category = price / line = dollars cheap\n",
            "category = power / line = GTR engine\n",
            "category = price / line = sale price\n",
            "category = power / line = broken engine\n",
            "category = price / line = internet price\n",
            "category = exterior / line = cost red\n",
            "category = configuration / line = heated seat\n",
            "category = exterior / line = WR blue\n"
          ]
        }
      ],
      "source": [
        "import random\n",
        "\n",
        "def randomChoice(l):\n",
        "    return l[random.randint(0, len(l) - 1)]\n",
        "\n",
        "def randomTrainingExample():\n",
        "    category = randomChoice(all_categories)\n",
        "    line = randomChoice(category_lines[category])\n",
        "    category_tensor = torch.tensor([all_categories.index(category)], dtype=torch.long)\n",
        "    line_tensor = lineToTensor(line)\n",
        "    return category, line, category_tensor, line_tensor\n",
        "\n",
        "for i in range(10):\n",
        "    category, line, category_tensor, line_tensor = randomTrainingExample()\n",
        "    print('category =', category, '/ line =', line)"
      ]
    },
    {
      "cell_type": "markdown",
      "metadata": {
        "id": "GVUeC3ReHQ5M"
      },
      "source": [
        "Training the Network\n",
        "\n",
        "\n"
      ]
    },
    {
      "cell_type": "code",
      "execution_count": 39,
      "metadata": {
        "id": "qVBe08WWHQ5N"
      },
      "outputs": [],
      "source": [
        "criterion = nn.NLLLoss()"
      ]
    },
    {
      "cell_type": "code",
      "execution_count": 40,
      "metadata": {
        "id": "o1LWRKz6HQ5O"
      },
      "outputs": [],
      "source": [
        "learning_rate = 0.005 # If you set this too high, it might explode. If too low, it might not learn\n",
        "\n",
        "def train(category_tensor, line_tensor):\n",
        "    hidden = rnn.initHidden()\n",
        "\n",
        "    rnn.zero_grad()\n",
        "\n",
        "    for i in range(line_tensor.size()[0]):\n",
        "        output, hidden = rnn(line_tensor[i], hidden)\n",
        "\n",
        "    loss = criterion(output, category_tensor)\n",
        "    loss.backward()\n",
        "\n",
        "    # Add parameters' gradients to their values, multiplied by learning rate\n",
        "    for p in rnn.parameters():\n",
        "        p.data.add_(p.grad.data, alpha=-learning_rate)\n",
        "\n",
        "    return output, loss.item()"
      ]
    },
    {
      "cell_type": "code",
      "execution_count": 41,
      "metadata": {
        "colab": {
          "base_uri": "https://localhost:8080/"
        },
        "id": "RqmrSD8qHQ5Q",
        "outputId": "755d911c-c076-45cc-c5cb-5120ee30d55e"
      },
      "outputs": [
        {
          "name": "stdout",
          "output_type": "stream",
          "text": [
            "power \n",
            "configuration \n",
            "power \n",
            "5000 5% (0m 11s) 0.3756 car cheap / price ✓\n",
            "power \n",
            "power \n",
            "price \n",
            "10000 10% (0m 21s) 0.0014 prefer black / exterior ✓\n",
            "configuration \n",
            "power \n",
            "power \n",
            "15000 15% (0m 32s) 0.0003 ecoboost engine / power ✓\n",
            "exterior \n",
            "power \n",
            "power \n",
            "20000 20% (0m 43s) 0.0017 cloth seat / configuration ✓\n",
            "exterior \n",
            "power \n",
            "power \n",
            "25000 25% (0m 53s) 0.0001 blown engine / power ✓\n",
            "power \n",
            "30000 30% (1m 4s) 0.0004 kelly blue / exterior ✓\n",
            "power \n",
            "35000 35% (1m 14s) 0.0002 heated seat / configuration ✓\n",
            "power \n",
            "40000 40% (1m 25s) 0.0000 DOHC engine / power ✓\n",
            "configuration \n",
            "power \n",
            "45000 45% (1m 35s) 0.0001 reasonable price / price ✓\n",
            "power \n",
            "power \n",
            "50000 50% (1m 46s) 0.0001 leather seat / configuration ✓\n",
            "exterior \n",
            "power \n",
            "55000 55% (1m 56s) 0.0005 tight budget / price ✓\n",
            "power \n",
            "power \n",
            "price \n",
            "60000 60% (2m 7s) 0.0000 fair price / price ✓\n",
            "power \n",
            "power \n",
            "65000 65% (2m 17s) 0.0010 advanced technology / configuration ✓\n",
            "power \n",
            "price \n",
            "power \n",
            "power \n",
            "70000 70% (2m 28s) 0.0007 big diesel / power ✓\n",
            "power \n",
            "power \n",
            "configuration \n",
            "75000 75% (2m 39s) 0.0000 major red / exterior ✓\n",
            "power \n",
            "power \n",
            "80000 80% (2m 50s) 0.0000 heated seat / configuration ✓\n",
            "configuration \n",
            "85000 85% (3m 0s) 0.0000 cars price / price ✓\n",
            "configuration \n",
            "power \n",
            "power \n",
            "power \n",
            "90000 90% (3m 11s) 0.0000 leather seat / configuration ✓\n",
            "exterior \n",
            "configuration \n",
            "exterior \n",
            "exterior \n",
            "95000 95% (3m 21s) 0.0000 fully red / exterior ✓\n",
            "power \n",
            "exterior \n",
            "price \n",
            "100000 100% (3m 32s) 0.0000 garage engine / power ✓\n"
          ]
        }
      ],
      "source": [
        "import time\n",
        "import math\n",
        "\n",
        "n_iters = 100000\n",
        "print_every = 5000\n",
        "plot_every = 1000\n",
        "\n",
        "\n",
        "\n",
        "# Keep track of losses for plotting\n",
        "current_loss = 0\n",
        "all_losses = []\n",
        "\n",
        "def timeSince(since):\n",
        "    now = time.time()\n",
        "    s = now - since\n",
        "    m = math.floor(s / 60)\n",
        "    s -= m * 60\n",
        "    return '%dm %ds' % (m, s)\n",
        "\n",
        "start = time.time()\n",
        "\n",
        "for iter in range(1, n_iters + 1):\n",
        "    category, line, category_tensor, line_tensor = randomTrainingExample()\n",
        "    try:\n",
        "        output, loss = train(category_tensor, line_tensor)\n",
        "        current_loss += loss\n",
        "    except:\n",
        "        print(category, line)\n",
        "\n",
        "    # Print iter number, loss, name and guess\n",
        "    if iter % print_every == 0:\n",
        "        guess, guess_i = categoryFromOutput(output)\n",
        "        correct = '✓' if guess == category else '✗ (%s)' % category\n",
        "        print('%d %d%% (%s) %.4f %s / %s %s' % (iter, iter / n_iters * 100, timeSince(start), loss, line, guess, correct))\n",
        "\n",
        "    # Add current loss avg to list of losses\n",
        "    if iter % plot_every == 0:\n",
        "        all_losses.append(current_loss / plot_every)\n",
        "        current_loss = 0"
      ]
    },
    {
      "cell_type": "markdown",
      "metadata": {
        "id": "fePrzP5wHQ5Q"
      },
      "source": [
        "Plotting the Results\n",
        "--------------------\n",
        "\n",
        "Plotting the historical loss from ``all_losses`` shows the network\n",
        "learning:\n",
        "\n",
        "\n"
      ]
    },
    {
      "cell_type": "code",
      "execution_count": 14,
      "metadata": {
        "colab": {
          "base_uri": "https://localhost:8080/",
          "height": 282
        },
        "id": "F6dGo3vBHQ5R",
        "outputId": "a5fbaa4c-3bb1-4d61-ce97-914b23211187"
      },
      "outputs": [
        {
          "ename": "NameError",
          "evalue": "name 'all_losses' is not defined",
          "output_type": "error",
          "traceback": [
            "\u001b[0;31m---------------------------------------------------------------------------\u001b[0m",
            "\u001b[0;31mNameError\u001b[0m                                 Traceback (most recent call last)",
            "\u001b[0;32m/var/folders/ht/4wh6gs_11c336t4pd2t6bpph0000gp/T/ipykernel_59795/761926869.py\u001b[0m in \u001b[0;36m<module>\u001b[0;34m\u001b[0m\n\u001b[1;32m      3\u001b[0m \u001b[0;34m\u001b[0m\u001b[0m\n\u001b[1;32m      4\u001b[0m \u001b[0mplt\u001b[0m\u001b[0;34m.\u001b[0m\u001b[0mfigure\u001b[0m\u001b[0;34m(\u001b[0m\u001b[0;34m)\u001b[0m\u001b[0;34m\u001b[0m\u001b[0;34m\u001b[0m\u001b[0m\n\u001b[0;32m----> 5\u001b[0;31m \u001b[0mplt\u001b[0m\u001b[0;34m.\u001b[0m\u001b[0mplot\u001b[0m\u001b[0;34m(\u001b[0m\u001b[0mall_losses\u001b[0m\u001b[0;34m)\u001b[0m\u001b[0;34m\u001b[0m\u001b[0;34m\u001b[0m\u001b[0m\n\u001b[0m",
            "\u001b[0;31mNameError\u001b[0m: name 'all_losses' is not defined"
          ]
        },
        {
          "data": {
            "text/plain": [
              "<Figure size 432x288 with 0 Axes>"
            ]
          },
          "metadata": {},
          "output_type": "display_data"
        }
      ],
      "source": [
        "import matplotlib.pyplot as plt\n",
        "import matplotlib.ticker as ticker\n",
        "\n",
        "plt.figure()\n",
        "plt.plot(all_losses)"
      ]
    },
    {
      "cell_type": "markdown",
      "metadata": {
        "id": "gvI0OoqiHQ5R"
      },
      "source": [
        "Evaluating the Results\n",
        "======================\n",
        "\n",
        "To see how well the network performs on different categories, we will\n",
        "create a confusion matrix, indicating for every actual language (rows)\n",
        "which language the network guesses (columns). To calculate the confusion\n",
        "matrix a bunch of samples are run through the network with\n",
        "``evaluate()``, which is the same as ``train()`` minus the backprop.\n",
        "\n",
        "\n"
      ]
    },
    {
      "cell_type": "code",
      "execution_count": 15,
      "metadata": {
        "colab": {
          "base_uri": "https://localhost:8080/",
          "height": 328
        },
        "id": "fwyJmEvpHQ5S",
        "outputId": "ae10979c-1eb6-4d53-9728-2c8cdb5fd901"
      },
      "outputs": [
        {
          "name": "stderr",
          "output_type": "stream",
          "text": [
            "/Users/enoch/anaconda3/envs/SI650/lib/python3.7/site-packages/ipykernel_launcher.py:36: UserWarning: FixedFormatter should only be used together with FixedLocator\n",
            "/Users/enoch/anaconda3/envs/SI650/lib/python3.7/site-packages/ipykernel_launcher.py:37: UserWarning: FixedFormatter should only be used together with FixedLocator\n"
          ]
        },
        {
          "data": {
            "image/png": "[encoded data removed]",
            "text/plain": [
              "<Figure size 432x288 with 2 Axes>"
            ]
          },
          "metadata": {
            "needs_background": "light"
          },
          "output_type": "display_data"
        }
      ],
      "source": [
        "# Keep track of correct guesses in a confusion matrix\n",
        "confusion = torch.zeros(n_categories, n_categories)\n",
        "n_confusion = 10000\n",
        "\n",
        "# Just return an output given a line\n",
        "def evaluate(line_tensor):\n",
        "    hidden = rnn.initHidden()\n",
        "\n",
        "    for i in range(line_tensor.size()[0]):\n",
        "        output, hidden = rnn(line_tensor[i], hidden)\n",
        "\n",
        "    return output\n",
        "\n",
        "# Go through a bunch of examples and record which are correctly guessed\n",
        "for i in range(n_confusion):\n",
        "    category, line, category_tensor, line_tensor = randomTrainingExample()\n",
        "    try:\n",
        "        output = evaluate(line_tensor)\n",
        "        guess, guess_i = categoryFromOutput(output)\n",
        "        category_i = all_categories.index(category)\n",
        "        confusion[category_i][guess_i] += 1\n",
        "    except:\n",
        "        pass\n",
        "\n",
        "# Normalize by dividing every row by its sum\n",
        "for i in range(n_categories):\n",
        "    confusion[i] = confusion[i] / confusion[i].sum()\n",
        "\n",
        "# Set up plot\n",
        "fig = plt.figure()\n",
        "ax = fig.add_subplot(111)\n",
        "cax = ax.matshow(confusion.numpy())\n",
        "fig.colorbar(cax)\n",
        "\n",
        "# Set up axes\n",
        "ax.set_xticklabels([''] + all_categories, rotation=90)\n",
        "ax.set_yticklabels([''] + all_categories)\n",
        "\n",
        "# Force label at every tick\n",
        "ax.xaxis.set_major_locator(ticker.MultipleLocator(1))\n",
        "ax.yaxis.set_major_locator(ticker.MultipleLocator(1))\n",
        "\n",
        "# sphinx_gallery_thumbnail_number = 2\n",
        "plt.show()"
      ]
    },
    {
      "cell_type": "markdown",
      "metadata": {
        "id": "9rFkzCm4HQ5T"
      },
      "source": [
        "Running on User Input\n",
        "---------------------\n",
        "\n",
        "\n"
      ]
    },
    {
      "cell_type": "code",
      "execution_count": 16,
      "metadata": {
        "colab": {
          "base_uri": "https://localhost:8080/"
        },
        "id": "vjrBmYODHQ5V",
        "outputId": "69f28604-be62-4def-b48c-29c44c580aea"
      },
      "outputs": [
        {
          "name": "stdout",
          "output_type": "stream",
          "text": [
            "\n",
            "> high horsepower\n",
            "(-0.00) power\n",
            "(-7.64) price\n",
            "(-7.82) configuration\n",
            "\n",
            "> luxury interior\n",
            "(-0.00) power\n",
            "(-5.81) price\n",
            "(-6.46) configuration\n",
            "\n",
            "> bluetooth stereo\n",
            "(-0.00) configuration\n",
            "(-9.95) power\n",
            "(-10.94) price\n",
            "\n",
            "> affordable price\n",
            "(-0.00) price\n",
            "(-10.81) configuration\n",
            "(-11.73) exterior\n"
          ]
        }
      ],
      "source": [
        "def predict(input_line, n_predictions=3):\n",
        "    print('\\n> %s' % input_line)\n",
        "    with torch.no_grad():\n",
        "        output = evaluate(lineToTensor(input_line))\n",
        "\n",
        "        # Get top N categories\n",
        "        topv, topi = output.topk(n_predictions, 1, True)\n",
        "        predictions = []\n",
        "\n",
        "        for i in range(n_predictions):\n",
        "            value = topv[0][i].item()\n",
        "            category_index = topi[0][i].item()\n",
        "            print('(%.2f) %s' % (value, all_categories[category_index]))\n",
        "            predictions.append([value, all_categories[category_index]])\n",
        "\n",
        "predict('high horsepower')\n",
        "predict('luxury interior')\n",
        "predict('bluetooth stereo')\n",
        "predict('affordable price')"
      ]
    },
    {
      "cell_type": "code",
      "execution_count": 17,
      "metadata": {
        "colab": {
          "base_uri": "https://localhost:8080/"
        },
        "id": "TgSrlu8QxeI-",
        "outputId": "369b6200-554b-4b3f-acae-86763cf15378"
      },
      "outputs": [
        {
          "name": "stdout",
          "output_type": "stream",
          "text": [
            "\n",
            "> affordable\n",
            "(-0.02) power\n",
            "(-3.80) configuration\n",
            "(-7.48) price\n"
          ]
        }
      ],
      "source": [
        "predict('affordable')"
      ]
    },
    {
      "cell_type": "code",
      "execution_count": 18,
      "metadata": {
        "colab": {
          "base_uri": "https://localhost:8080/"
        },
        "id": "aRhNkcsSxgk-",
        "outputId": "e3dc578b-3905-4c93-db75-527573fefebf"
      },
      "outputs": [
        {
          "name": "stdout",
          "output_type": "stream",
          "text": [
            "\n",
            "> cheap\n",
            "(-0.00) price\n",
            "(-6.57) configuration\n",
            "(-8.28) power\n"
          ]
        }
      ],
      "source": [
        "predict('cheap')"
      ]
    },
    {
      "cell_type": "code",
      "execution_count": 19,
      "metadata": {
        "colab": {
          "base_uri": "https://localhost:8080/"
        },
        "id": "bqmBHIHrxii8",
        "outputId": "bdcbeeb1-6f52-4116-fc65-93d82f6be959"
      },
      "outputs": [
        {
          "name": "stdout",
          "output_type": "stream",
          "text": [
            "\n",
            "> blue SUV\n",
            "(-0.00) exterior\n",
            "(-9.59) power\n",
            "(-12.60) configuration\n"
          ]
        }
      ],
      "source": [
        "predict('blue SUV')"
      ]
    },
    {
      "cell_type": "code",
      "execution_count": 48,
      "metadata": {
        "id": "zblQz-jpxlvm"
      },
      "outputs": [],
      "source": [
        "# save model to file\n",
        "torch.save(rnn.state_dict(), \"feature_predictor.pt\")"
      ]
    }
  ],
  "metadata": {
    "accelerator": "GPU",
    "colab": {
      "collapsed_sections": [],
      "name": "char_rnn_classification_tutorial.ipynb",
      "provenance": []
    },
    "kernelspec": {
      "display_name": "Python 3",
      "language": "python",
      "name": "python3"
    },
    "language_info": {
      "codemirror_mode": {
        "name": "ipython",
        "version": 3
      },
      "file_extension": ".py",
      "mimetype": "text/x-python",
      "name": "python",
      "nbconvert_exporter": "python",
      "pygments_lexer": "ipython3",
      "version": "3.7.11"
    }
  },
  "nbformat": 4,
  "nbformat_minor": 0
}
