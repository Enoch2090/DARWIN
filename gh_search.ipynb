{
 "cells": [
  {
   "cell_type": "code",
   "execution_count": 44,
   "source": [
    "from bs4 import BeautifulSoup\n",
    "import requests\n",
    "import re\n",
    "from tqdm import tqdm\n",
    "import random\n",
    "import json\n",
    "import time\n",
    "from collections import deque\n",
    "import os\n",
    "\n",
    "def notify(title, text):\n",
    "    os.system(\"\"\"\n",
    "              osascript -e 'display notification \"{}\" with title \"{}\"'\n",
    "              \"\"\".format(text, title))\n",
    "\n",
    "USER_AGENT = \"Mozilla/5.0 (X11; Linux x86_64) AppleWebKit/537.36 (KHTML, like Gecko) Chrome/59.0.3071.109 Safari/537.36\""
   ],
   "outputs": [],
   "metadata": {}
  },
  {
   "cell_type": "code",
   "execution_count": 45,
   "source": [
    "def get_repo(i):\n",
    "    results = []\n",
    "    search = f\"https://github.com/search?p={i}&q=stars%3A%3E2000+language%3APython&type=Repositories\"\n",
    "    response = requests.get(search, headers={'User-Agent': USER_AGENT})\n",
    "    bs = BeautifulSoup(response.content,'html.parser')\n",
    "    curr_page_content = bs.select(\"#js-pjax-container > div > div.col-12.col-md-9.float-left.px-2.pt-3.pt-md-0.codesearch-results > div\")[0].find_all(\"li\")\n",
    "    for c in curr_page_content:\n",
    "        try:\n",
    "            title = c.find_all(\"a\", class_=\"v-align-middle\")[0].text\n",
    "            url = json.loads(c.find_all(\"a\", class_=\"v-align-middle\")[0].get(\"data-hydro-click\"))[\"payload\"][\"result\"][\"url\"]\n",
    "            about = c.find_all(\"p\", class_=\"mb-1\")[0].text.replace(\"\\n\", \"\").replace(\"  \", \"\")\n",
    "            results.append(\n",
    "                {\n",
    "                    \"title\": title,\n",
    "                    \"url\": url,\n",
    "                    \"about\": about\n",
    "                }\n",
    "            )\n",
    "        except:\n",
    "            continue\n",
    "    return results"
   ],
   "outputs": [],
   "metadata": {}
  },
  {
   "cell_type": "code",
   "execution_count": 47,
   "source": [
    "results = []\n",
    "fail = deque(maxlen=100)\n",
    "pbar = tqdm(list(range(1, 101)))\n",
    "for i in pbar:\n",
    "    try:\n",
    "        results += get_repo(i)\n",
    "    except Exception as e:\n",
    "        print(f\"page {i} failed, push to queue\")\n",
    "        fail.append(i)\n",
    "    sleep_time = random.randint(8, 12)\n",
    "    pbar.set_description(f\"Sleep {sleep_time} s - \")\n",
    "    time.sleep(sleep_time)\n",
    "while len(fail)!=0:\n",
    "    print(f\"refetching page {i}\")\n",
    "    i = fail.popleft()\n",
    "    try:\n",
    "        results += get_repo(i)\n",
    "    except Exception as e:\n",
    "        print(f\"page {i} failed, push to queue\")\n",
    "        fail.append(i)\n",
    "notify(f\"repo data downloaded\", f\"Total {len(fail)} fail.\")"
   ],
   "outputs": [
    {
     "output_type": "stream",
     "name": "stderr",
     "text": [
      "Sleep 12 s - : 100%|██████████| 100/100 [17:35<00:00, 10.55s/it]\n"
     ]
    }
   ],
   "metadata": {}
  },
  {
   "cell_type": "code",
   "execution_count": 48,
   "source": [
    "import pickle\n",
    "with open(\"github_repos.pkl\", \"wb\") as f:\n",
    "    pickle.dump(results, f)"
   ],
   "outputs": [],
   "metadata": {}
  },
  {
   "cell_type": "code",
   "execution_count": null,
   "source": [],
   "outputs": [],
   "metadata": {}
  }
 ],
 "metadata": {
  "orig_nbformat": 4,
  "language_info": {
   "name": "python",
   "version": "3.8.8",
   "mimetype": "text/x-python",
   "codemirror_mode": {
    "name": "ipython",
    "version": 3
   },
   "pygments_lexer": "ipython3",
   "nbconvert_exporter": "python",
   "file_extension": ".py"
  },
  "kernelspec": {
   "name": "python3",
   "display_name": "Python 3.8.8 64-bit ('base': conda)"
  },
  "interpreter": {
   "hash": "4bb92522aea0df2cdf77f0d7244c3ee7e3cc252401d5861063a00518a5b9f866"
  }
 },
 "nbformat": 4,
 "nbformat_minor": 2
}