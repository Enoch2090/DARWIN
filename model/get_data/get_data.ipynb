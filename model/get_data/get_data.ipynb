{
 "cells": [
  {
   "cell_type": "code",
   "execution_count": 1,
   "metadata": {},
   "outputs": [],
   "source": [
    "from bs4 import BeautifulSoup\n",
    "import requests\n",
    "from tqdm import *\n",
    "import json\n",
    "import re\n",
    "import os"
   ]
  },
  {
   "cell_type": "code",
   "execution_count": 2,
   "metadata": {},
   "outputs": [],
   "source": [
    "base = \"https://www.cars.com\"\n",
    "if os.path.exists(\"links.json\"):\n",
    "    with open(\"links.json\", \"r\") as f:\n",
    "        links = json.load(f)\n",
    "else:\n",
    "    links = []\n",
    "    for i in trange(100):\n",
    "        url = f\"{base}/shopping/results/?page={i}&page_size=100&list_price_max=&makes[]=&maximum_distance=all&models[]=&stock_type=all&zip=48113\"\n",
    "        cars_raw = BeautifulSoup(requests.get(url).text)\n",
    "        cards = cars_raw.find_all(\"div\", {\"class\": \"vehicle-card\"})\n",
    "        links += [base+c.find_next()[\"href\"] for c in cards]"
   ]
  },
  {
   "cell_type": "code",
   "execution_count": 4,
   "metadata": {},
   "outputs": [
    {
     "name": "stderr",
     "output_type": "stream",
     "text": [
      "  0%|          | 0/9905 [00:00<?, ?it/s]"
     ]
    },
    {
     "name": "stdout",
     "output_type": "stream",
     "text": [
      "Current 0/0\n"
     ]
    },
    {
     "name": "stderr",
     "output_type": "stream",
     "text": [
      " 14%|█▍        | 1411/9905 [31:16<3:11:43,  1.35s/it]"
     ]
    },
    {
     "name": "stdout",
     "output_type": "stream",
     "text": [
      "list index out of range\n"
     ]
    },
    {
     "name": "stderr",
     "output_type": "stream",
     "text": [
      " 15%|█▌        | 1500/9905 [33:29<3:44:37,  1.60s/it]"
     ]
    },
    {
     "name": "stdout",
     "output_type": "stream",
     "text": [
      "Current 1384/1500\n"
     ]
    },
    {
     "name": "stderr",
     "output_type": "stream",
     "text": [
      " 15%|█▌        | 1529/9905 [34:07<3:02:05,  1.30s/it]"
     ]
    },
    {
     "name": "stdout",
     "output_type": "stream",
     "text": [
      "list index out of range\n"
     ]
    },
    {
     "name": "stderr",
     "output_type": "stream",
     "text": [
      " 23%|██▎       | 2233/9905 [49:15<2:16:36,  1.07s/it]"
     ]
    },
    {
     "name": "stdout",
     "output_type": "stream",
     "text": [
      "list index out of range\n"
     ]
    },
    {
     "name": "stderr",
     "output_type": "stream",
     "text": [
      " 23%|██▎       | 2293/9905 [50:28<3:13:25,  1.52s/it]"
     ]
    },
    {
     "name": "stdout",
     "output_type": "stream",
     "text": [
      "list index out of range\n"
     ]
    },
    {
     "name": "stderr",
     "output_type": "stream",
     "text": [
      " 27%|██▋       | 2649/9905 [58:08<3:26:46,  1.71s/it]"
     ]
    },
    {
     "name": "stdout",
     "output_type": "stream",
     "text": [
      "list index out of range\n"
     ]
    },
    {
     "name": "stderr",
     "output_type": "stream",
     "text": [
      " 29%|██▉       | 2912/9905 [1:03:47<1:21:45,  1.43it/s]"
     ]
    },
    {
     "name": "stdout",
     "output_type": "stream",
     "text": [
      "list index out of range\n"
     ]
    },
    {
     "name": "stderr",
     "output_type": "stream",
     "text": [
      " 29%|██▉       | 2921/9905 [1:03:57<2:17:46,  1.18s/it]"
     ]
    },
    {
     "name": "stdout",
     "output_type": "stream",
     "text": [
      "list index out of range\n"
     ]
    },
    {
     "name": "stderr",
     "output_type": "stream",
     "text": [
      " 30%|███       | 2974/9905 [1:05:08<2:20:17,  1.21s/it]"
     ]
    },
    {
     "name": "stdout",
     "output_type": "stream",
     "text": [
      "list index out of range\n"
     ]
    },
    {
     "name": "stderr",
     "output_type": "stream",
     "text": [
      " 30%|███       | 3000/9905 [1:05:36<2:13:51,  1.16s/it]"
     ]
    },
    {
     "name": "stdout",
     "output_type": "stream",
     "text": [
      "Current 2769/3000\n"
     ]
    },
    {
     "name": "stderr",
     "output_type": "stream",
     "text": [
      " 31%|███▏      | 3111/9905 [1:07:59<2:32:20,  1.35s/it]"
     ]
    },
    {
     "name": "stdout",
     "output_type": "stream",
     "text": [
      "list index out of range\n"
     ]
    },
    {
     "name": "stderr",
     "output_type": "stream",
     "text": [
      " 45%|████▌     | 4500/9905 [1:36:39<2:03:43,  1.37s/it]"
     ]
    },
    {
     "name": "stdout",
     "output_type": "stream",
     "text": [
      "Current 4177/4500\n"
     ]
    },
    {
     "name": "stderr",
     "output_type": "stream",
     "text": [
      " 52%|█████▏    | 5135/9905 [1:50:29<11:48:41,  8.91s/it]"
     ]
    },
    {
     "name": "stdout",
     "output_type": "stream",
     "text": [
      "('Connection aborted.', RemoteDisconnected('Remote end closed connection without response'))\n"
     ]
    },
    {
     "name": "stderr",
     "output_type": "stream",
     "text": [
      " 52%|█████▏    | 5195/9905 [1:51:49<1:43:29,  1.32s/it]"
     ]
    },
    {
     "name": "stdout",
     "output_type": "stream",
     "text": [
      "list index out of range\n"
     ]
    },
    {
     "name": "stderr",
     "output_type": "stream",
     "text": [
      " 54%|█████▎    | 5313/9905 [1:54:23<1:11:42,  1.07it/s]"
     ]
    },
    {
     "name": "stdout",
     "output_type": "stream",
     "text": [
      "list index out of range\n"
     ]
    },
    {
     "name": "stderr",
     "output_type": "stream",
     "text": [
      " 61%|██████    | 6001/9905 [2:09:09<1:15:40,  1.16s/it]"
     ]
    },
    {
     "name": "stdout",
     "output_type": "stream",
     "text": [
      "Current 5584/6000\n"
     ]
    },
    {
     "name": "stderr",
     "output_type": "stream",
     "text": [
      " 62%|██████▏   | 6111/9905 [2:11:32<1:15:19,  1.19s/it]"
     ]
    },
    {
     "name": "stdout",
     "output_type": "stream",
     "text": [
      "list index out of range\n"
     ]
    },
    {
     "name": "stderr",
     "output_type": "stream",
     "text": [
      " 76%|███████▌  | 7501/9905 [2:40:32<1:07:10,  1.68s/it]"
     ]
    },
    {
     "name": "stdout",
     "output_type": "stream",
     "text": [
      "Current 6977/7500\n"
     ]
    },
    {
     "name": "stderr",
     "output_type": "stream",
     "text": [
      " 86%|████████▌ | 8529/9905 [3:01:06<36:23,  1.59s/it]"
     ]
    },
    {
     "name": "stdout",
     "output_type": "stream",
     "text": [
      "list index out of range\n"
     ]
    },
    {
     "name": "stderr",
     "output_type": "stream",
     "text": [
      " 87%|████████▋ | 8584/9905 [3:02:32<25:18,  1.15s/it]"
     ]
    },
    {
     "name": "stdout",
     "output_type": "stream",
     "text": [
      "invalid literal for int() with base 10: ''\n"
     ]
    },
    {
     "name": "stderr",
     "output_type": "stream",
     "text": [
      " 88%|████████▊ | 8668/9905 [3:04:40<33:29,  1.62s/it]"
     ]
    },
    {
     "name": "stdout",
     "output_type": "stream",
     "text": [
      "list index out of range\n"
     ]
    },
    {
     "name": "stderr",
     "output_type": "stream",
     "text": [
      " 90%|█████████ | 8917/9905 [3:09:55<21:34,  1.31s/it]"
     ]
    },
    {
     "name": "stdout",
     "output_type": "stream",
     "text": [
      "list index out of range\n"
     ]
    },
    {
     "name": "stderr",
     "output_type": "stream",
     "text": [
      " 91%|█████████ | 9001/9905 [3:12:26<21:12,  1.41s/it]"
     ]
    },
    {
     "name": "stdout",
     "output_type": "stream",
     "text": [
      "Current 8369/9000\n"
     ]
    },
    {
     "name": "stderr",
     "output_type": "stream",
     "text": [
      " 93%|█████████▎| 9213/9905 [3:16:51<15:10,  1.32s/it]"
     ]
    },
    {
     "name": "stdout",
     "output_type": "stream",
     "text": [
      "list index out of range\n"
     ]
    },
    {
     "name": "stderr",
     "output_type": "stream",
     "text": [
      " 94%|█████████▍| 9311/9905 [3:18:55<07:16,  1.36it/s]"
     ]
    },
    {
     "name": "stdout",
     "output_type": "stream",
     "text": [
      "list index out of range\n"
     ]
    },
    {
     "name": "stderr",
     "output_type": "stream",
     "text": [
      "100%|██████████| 9905/9905 [3:31:40<00:00,  1.28s/it]\n"
     ]
    }
   ],
   "source": [
    "infos = []\n",
    "fails = []\n",
    "success = 0\n",
    "total = 0\n",
    "features_enum = ['Convenience', 'Entertainment', 'Exterior', 'Safety', 'Seating']\n",
    "for l in tqdm(links):\n",
    "    if total % 1500 == 0:\n",
    "        with open(\"info.json\", \"w\") as f:\n",
    "            json.dump(infos, f, indent = 2)\n",
    "        with open(\"fails.json\", \"w\") as f:\n",
    "            json.dump(fails, f, indent = 2)\n",
    "        print(f\"Current {success}/{total}\")\n",
    "    try:\n",
    "        car_info_raw = BeautifulSoup(requests.get(l).text)\n",
    "        avaliable = car_info_raw.find_all(\"p\", {\"class\": \"sds-notification__desc\"})\n",
    "        total += 1\n",
    "        if len(avaliable) > 0:\n",
    "            continue\n",
    "        info_list = car_info_raw.find_all(\"dl\", {\"class\": \"fancy-description-list\"})[0].find_all_next(\"dd\")\n",
    "        remove_space = lambda x: re.sub(r\"^\\s+|\\s+$\",  \"\", x)\n",
    "        basics = {\n",
    "            'exterior_color': remove_space(info_list[0].text),\n",
    "            'interior_color': remove_space(info_list[1].text),\n",
    "            'drive_train': remove_space(info_list[2].text),\n",
    "            'mpg': remove_space(info_list[3].find_next().find_next().find_next().text),\n",
    "            'fuel_type': remove_space(info_list[4].text),\n",
    "            'transmission': remove_space(info_list[5].text),\n",
    "            'engine': remove_space(info_list[6].text),\n",
    "            'mileage': int(\"\".join(re.findall(r\"[0-9]+\", info_list[9].text)))\n",
    "        }\n",
    "        features_name = [x.text for x in car_info_raw.find_all(\"dl\", {\"class\": \"fancy-description-list\"})[1].find_all_next(\"dt\")]\n",
    "        features_list = car_info_raw.find_all(\"dl\", {\"class\": \"fancy-description-list\"})[1].find_all_next(\"dd\")\n",
    "        features = {k: [] for k in features_enum}\n",
    "        for f in features_enum:\n",
    "            if f in features_name:\n",
    "                features[f] = [x.text for x in features_list[features_name.index(f)].find_next().find_all()]\n",
    "        features = {\n",
    "            'heated_seats': 'Heated Seats' in features['Convenience'],\n",
    "            'heated_steering_wheel': 'Heated Steering Wheel' in features['Convenience'],\n",
    "            'nav_sys': 'Navigation System' in features['Convenience'],\n",
    "            'remote_start': 'Remote Start' in features['Convenience'],\n",
    "            'carplay': 'Apple CarPlay/Android Auto' in features['Entertainment'],\n",
    "            'bluetooth': 'Bluetooth' in features['Entertainment'],\n",
    "            'brake_assist': 'Brake Assist' in features['Safety'],\n",
    "            'blind_spot_monitor': 'Blind Spot Monitor' in features['Safety']\n",
    "        }\n",
    "        info = {\n",
    "            'name': car_info_raw.find_all(\"h1\", {'class': 'listing-title'})[0].text,\n",
    "            'price': int(\"\".join(re.findall(r\"[0-9]+\", car_info_raw.find_all(\"span\", {'class': 'primary-price'})[0].text))),\n",
    "            'basics': basics,\n",
    "            'features': features\n",
    "        }\n",
    "        infos.append(info)\n",
    "        success += 1\n",
    "    except Exception as e:\n",
    "        print(e)\n",
    "        fails.append(\n",
    "            {\n",
    "                'link': l,\n",
    "                'reason': f\"{e}\"\n",
    "            }\n",
    "        )\n",
    "        continue\n",
    "with open(\"info.json\", \"w\") as f:\n",
    "    json.dump(infos, f, indent = 2)"
   ]
  },
  {
   "cell_type": "code",
   "execution_count": null,
   "metadata": {},
   "outputs": [],
   "source": []
  }
 ],
 "metadata": {
  "interpreter": {
   "hash": "3c5c45524385f7d219b026ea8c80bb63a2b7cc2d4f8c22bbd538379a9b73d042"
  },
  "kernelspec": {
   "display_name": "Python 3.8.8 64-bit ('base': conda)",
   "name": "python3"
  },
  "language_info": {
   "codemirror_mode": {
    "name": "ipython",
    "version": 3
   },
   "file_extension": ".py",
   "mimetype": "text/x-python",
   "name": "python",
   "nbconvert_exporter": "python",
   "pygments_lexer": "ipython3",
   "version": "3.8.8"
  },
  "orig_nbformat": 4
 },
 "nbformat": 4,
 "nbformat_minor": 2
}
